{
 "cells": [
  {
   "cell_type": "markdown",
   "metadata": {},
   "source": [
    "<h1>Classification of Degrees awarded (2016/17)</h1>\n",
    "<p>In this Notebook you will show the degree classifications awareded from academic year 2016/17 as a pie plot</p>\n",
    "<p>You will require the files produced when you completed the previous exercise</p>"
   ]
  },
  {
   "cell_type": "markdown",
   "metadata": {},
   "source": [
    "<h2>Import PANDAs and Matplotlib.pylot</h2>\n",
    "<p>You will be using the pandas dataframe to store the data and Matplotlib pyplot to plot the data.  Import the necessary libraries</h2>"
   ]
  },
  {
   "cell_type": "code",
   "execution_count": 1,
   "metadata": {},
   "outputs": [],
   "source": [
    "import pandas as pd\n",
    "import matplotlib.pyplot as plt"
   ]
  },
  {
   "cell_type": "markdown",
   "metadata": {},
   "source": [
    "<h2>Read the data into a PANDAs DataFrame</h2>\n",
    "<p>Read the 'df.csv' in to a data frame called df, use the head method to output the first 20 rows of the datafile so that the structure of the dataframe can be explored.</p>"
   ]
  },
  {
   "cell_type": "code",
   "execution_count": 2,
   "metadata": {},
   "outputs": [
    {
     "data": {
      "text/html": [
       "<div>\n",
       "<style scoped>\n",
       "    .dataframe tbody tr th:only-of-type {\n",
       "        vertical-align: middle;\n",
       "    }\n",
       "\n",
       "    .dataframe tbody tr th {\n",
       "        vertical-align: top;\n",
       "    }\n",
       "\n",
       "    .dataframe thead th {\n",
       "        text-align: right;\n",
       "    }\n",
       "</style>\n",
       "<table border=\"1\" class=\"dataframe\">\n",
       "  <thead>\n",
       "    <tr style=\"text-align: right;\">\n",
       "      <th></th>\n",
       "      <th>Unnamed: 0</th>\n",
       "      <th>Academic Year</th>\n",
       "      <th>Mode of study</th>\n",
       "      <th>Sex</th>\n",
       "      <th>Country of HE provider</th>\n",
       "      <th>Classification of First Degree</th>\n",
       "      <th>Number</th>\n",
       "      <th>Percentage</th>\n",
       "    </tr>\n",
       "  </thead>\n",
       "  <tbody>\n",
       "    <tr>\n",
       "      <th>0</th>\n",
       "      <td>0</td>\n",
       "      <td>2013/14</td>\n",
       "      <td>All</td>\n",
       "      <td>All</td>\n",
       "      <td>All</td>\n",
       "      <td>First</td>\n",
       "      <td>79410</td>\n",
       "      <td>20</td>\n",
       "    </tr>\n",
       "    <tr>\n",
       "      <th>1</th>\n",
       "      <td>1</td>\n",
       "      <td>2013/14</td>\n",
       "      <td>All</td>\n",
       "      <td>All</td>\n",
       "      <td>All</td>\n",
       "      <td>Lower second</td>\n",
       "      <td>95965</td>\n",
       "      <td>24</td>\n",
       "    </tr>\n",
       "    <tr>\n",
       "      <th>2</th>\n",
       "      <td>2</td>\n",
       "      <td>2013/14</td>\n",
       "      <td>All</td>\n",
       "      <td>All</td>\n",
       "      <td>All</td>\n",
       "      <td>Third/Pass</td>\n",
       "      <td>21905</td>\n",
       "      <td>6</td>\n",
       "    </tr>\n",
       "    <tr>\n",
       "      <th>3</th>\n",
       "      <td>4</td>\n",
       "      <td>2013/14</td>\n",
       "      <td>All</td>\n",
       "      <td>All</td>\n",
       "      <td>All</td>\n",
       "      <td>Upper second</td>\n",
       "      <td>198320</td>\n",
       "      <td>50</td>\n",
       "    </tr>\n",
       "    <tr>\n",
       "      <th>4</th>\n",
       "      <td>275</td>\n",
       "      <td>2014/15</td>\n",
       "      <td>All</td>\n",
       "      <td>All</td>\n",
       "      <td>All</td>\n",
       "      <td>First</td>\n",
       "      <td>81640</td>\n",
       "      <td>22</td>\n",
       "    </tr>\n",
       "    <tr>\n",
       "      <th>5</th>\n",
       "      <td>276</td>\n",
       "      <td>2014/15</td>\n",
       "      <td>All</td>\n",
       "      <td>All</td>\n",
       "      <td>All</td>\n",
       "      <td>Lower second</td>\n",
       "      <td>85250</td>\n",
       "      <td>23</td>\n",
       "    </tr>\n",
       "    <tr>\n",
       "      <th>6</th>\n",
       "      <td>277</td>\n",
       "      <td>2014/15</td>\n",
       "      <td>All</td>\n",
       "      <td>All</td>\n",
       "      <td>All</td>\n",
       "      <td>Third/Pass</td>\n",
       "      <td>20340</td>\n",
       "      <td>5</td>\n",
       "    </tr>\n",
       "    <tr>\n",
       "      <th>7</th>\n",
       "      <td>279</td>\n",
       "      <td>2014/15</td>\n",
       "      <td>All</td>\n",
       "      <td>All</td>\n",
       "      <td>All</td>\n",
       "      <td>Upper second</td>\n",
       "      <td>183680</td>\n",
       "      <td>50</td>\n",
       "    </tr>\n",
       "    <tr>\n",
       "      <th>8</th>\n",
       "      <td>550</td>\n",
       "      <td>2015/16</td>\n",
       "      <td>All</td>\n",
       "      <td>All</td>\n",
       "      <td>All</td>\n",
       "      <td>First</td>\n",
       "      <td>88890</td>\n",
       "      <td>24</td>\n",
       "    </tr>\n",
       "    <tr>\n",
       "      <th>9</th>\n",
       "      <td>551</td>\n",
       "      <td>2015/16</td>\n",
       "      <td>All</td>\n",
       "      <td>All</td>\n",
       "      <td>All</td>\n",
       "      <td>Lower second</td>\n",
       "      <td>81595</td>\n",
       "      <td>22</td>\n",
       "    </tr>\n",
       "    <tr>\n",
       "      <th>10</th>\n",
       "      <td>552</td>\n",
       "      <td>2015/16</td>\n",
       "      <td>All</td>\n",
       "      <td>All</td>\n",
       "      <td>All</td>\n",
       "      <td>Third/Pass</td>\n",
       "      <td>19280</td>\n",
       "      <td>5</td>\n",
       "    </tr>\n",
       "    <tr>\n",
       "      <th>11</th>\n",
       "      <td>554</td>\n",
       "      <td>2015/16</td>\n",
       "      <td>All</td>\n",
       "      <td>All</td>\n",
       "      <td>All</td>\n",
       "      <td>Upper second</td>\n",
       "      <td>186565</td>\n",
       "      <td>50</td>\n",
       "    </tr>\n",
       "    <tr>\n",
       "      <th>12</th>\n",
       "      <td>825</td>\n",
       "      <td>2016/17</td>\n",
       "      <td>All</td>\n",
       "      <td>All</td>\n",
       "      <td>All</td>\n",
       "      <td>First</td>\n",
       "      <td>100945</td>\n",
       "      <td>26</td>\n",
       "    </tr>\n",
       "    <tr>\n",
       "      <th>13</th>\n",
       "      <td>826</td>\n",
       "      <td>2016/17</td>\n",
       "      <td>All</td>\n",
       "      <td>All</td>\n",
       "      <td>All</td>\n",
       "      <td>Lower second</td>\n",
       "      <td>79515</td>\n",
       "      <td>20</td>\n",
       "    </tr>\n",
       "    <tr>\n",
       "      <th>14</th>\n",
       "      <td>827</td>\n",
       "      <td>2016/17</td>\n",
       "      <td>All</td>\n",
       "      <td>All</td>\n",
       "      <td>All</td>\n",
       "      <td>Third/Pass</td>\n",
       "      <td>19025</td>\n",
       "      <td>5</td>\n",
       "    </tr>\n",
       "    <tr>\n",
       "      <th>15</th>\n",
       "      <td>829</td>\n",
       "      <td>2016/17</td>\n",
       "      <td>All</td>\n",
       "      <td>All</td>\n",
       "      <td>All</td>\n",
       "      <td>Upper second</td>\n",
       "      <td>192395</td>\n",
       "      <td>49</td>\n",
       "    </tr>\n",
       "    <tr>\n",
       "      <th>16</th>\n",
       "      <td>1105</td>\n",
       "      <td>2017/18</td>\n",
       "      <td>All</td>\n",
       "      <td>All</td>\n",
       "      <td>All</td>\n",
       "      <td>First</td>\n",
       "      <td>110475</td>\n",
       "      <td>28</td>\n",
       "    </tr>\n",
       "    <tr>\n",
       "      <th>17</th>\n",
       "      <td>1106</td>\n",
       "      <td>2017/18</td>\n",
       "      <td>All</td>\n",
       "      <td>All</td>\n",
       "      <td>All</td>\n",
       "      <td>Lower second</td>\n",
       "      <td>76210</td>\n",
       "      <td>19</td>\n",
       "    </tr>\n",
       "    <tr>\n",
       "      <th>18</th>\n",
       "      <td>1107</td>\n",
       "      <td>2017/18</td>\n",
       "      <td>All</td>\n",
       "      <td>All</td>\n",
       "      <td>All</td>\n",
       "      <td>Third/Pass</td>\n",
       "      <td>17830</td>\n",
       "      <td>4</td>\n",
       "    </tr>\n",
       "    <tr>\n",
       "      <th>19</th>\n",
       "      <td>1109</td>\n",
       "      <td>2017/18</td>\n",
       "      <td>All</td>\n",
       "      <td>All</td>\n",
       "      <td>All</td>\n",
       "      <td>Upper second</td>\n",
       "      <td>192425</td>\n",
       "      <td>48</td>\n",
       "    </tr>\n",
       "  </tbody>\n",
       "</table>\n",
       "</div>"
      ],
      "text/plain": [
       "    Unnamed: 0 Academic Year Mode of study  Sex Country of HE provider  \\\n",
       "0            0       2013/14           All  All                    All   \n",
       "1            1       2013/14           All  All                    All   \n",
       "2            2       2013/14           All  All                    All   \n",
       "3            4       2013/14           All  All                    All   \n",
       "4          275       2014/15           All  All                    All   \n",
       "5          276       2014/15           All  All                    All   \n",
       "6          277       2014/15           All  All                    All   \n",
       "7          279       2014/15           All  All                    All   \n",
       "8          550       2015/16           All  All                    All   \n",
       "9          551       2015/16           All  All                    All   \n",
       "10         552       2015/16           All  All                    All   \n",
       "11         554       2015/16           All  All                    All   \n",
       "12         825       2016/17           All  All                    All   \n",
       "13         826       2016/17           All  All                    All   \n",
       "14         827       2016/17           All  All                    All   \n",
       "15         829       2016/17           All  All                    All   \n",
       "16        1105       2017/18           All  All                    All   \n",
       "17        1106       2017/18           All  All                    All   \n",
       "18        1107       2017/18           All  All                    All   \n",
       "19        1109       2017/18           All  All                    All   \n",
       "\n",
       "   Classification of First Degree  Number  Percentage  \n",
       "0                           First   79410          20  \n",
       "1                    Lower second   95965          24  \n",
       "2                      Third/Pass   21905           6  \n",
       "3                    Upper second  198320          50  \n",
       "4                           First   81640          22  \n",
       "5                    Lower second   85250          23  \n",
       "6                      Third/Pass   20340           5  \n",
       "7                    Upper second  183680          50  \n",
       "8                           First   88890          24  \n",
       "9                    Lower second   81595          22  \n",
       "10                     Third/Pass   19280           5  \n",
       "11                   Upper second  186565          50  \n",
       "12                          First  100945          26  \n",
       "13                   Lower second   79515          20  \n",
       "14                     Third/Pass   19025           5  \n",
       "15                   Upper second  192395          49  \n",
       "16                          First  110475          28  \n",
       "17                   Lower second   76210          19  \n",
       "18                     Third/Pass   17830           4  \n",
       "19                   Upper second  192425          48  "
      ]
     },
     "execution_count": 2,
     "metadata": {},
     "output_type": "execute_result"
    }
   ],
   "source": [
    "df = pd.read_csv('df.csv')\n",
    "df.head(20)"
   ]
  },
  {
   "cell_type": "markdown",
   "metadata": {},
   "source": [
    "<h2>Creating a new DataFrame</h2>\n",
    "<p>Create a new dataframe named df_16_17 that contains only the rows where the 'Academic Year' column has the value '2016/17', then output the dataframe to make sure you have the correct four rows.</p>"
   ]
  },
  {
   "cell_type": "code",
   "execution_count": 3,
   "metadata": {},
   "outputs": [
    {
     "data": {
      "text/html": [
       "<div>\n",
       "<style scoped>\n",
       "    .dataframe tbody tr th:only-of-type {\n",
       "        vertical-align: middle;\n",
       "    }\n",
       "\n",
       "    .dataframe tbody tr th {\n",
       "        vertical-align: top;\n",
       "    }\n",
       "\n",
       "    .dataframe thead th {\n",
       "        text-align: right;\n",
       "    }\n",
       "</style>\n",
       "<table border=\"1\" class=\"dataframe\">\n",
       "  <thead>\n",
       "    <tr style=\"text-align: right;\">\n",
       "      <th></th>\n",
       "      <th>Unnamed: 0</th>\n",
       "      <th>Academic Year</th>\n",
       "      <th>Mode of study</th>\n",
       "      <th>Sex</th>\n",
       "      <th>Country of HE provider</th>\n",
       "      <th>Classification of First Degree</th>\n",
       "      <th>Number</th>\n",
       "      <th>Percentage</th>\n",
       "    </tr>\n",
       "  </thead>\n",
       "  <tbody>\n",
       "    <tr>\n",
       "      <th>12</th>\n",
       "      <td>825</td>\n",
       "      <td>2016/17</td>\n",
       "      <td>All</td>\n",
       "      <td>All</td>\n",
       "      <td>All</td>\n",
       "      <td>First</td>\n",
       "      <td>100945</td>\n",
       "      <td>26</td>\n",
       "    </tr>\n",
       "    <tr>\n",
       "      <th>13</th>\n",
       "      <td>826</td>\n",
       "      <td>2016/17</td>\n",
       "      <td>All</td>\n",
       "      <td>All</td>\n",
       "      <td>All</td>\n",
       "      <td>Lower second</td>\n",
       "      <td>79515</td>\n",
       "      <td>20</td>\n",
       "    </tr>\n",
       "    <tr>\n",
       "      <th>14</th>\n",
       "      <td>827</td>\n",
       "      <td>2016/17</td>\n",
       "      <td>All</td>\n",
       "      <td>All</td>\n",
       "      <td>All</td>\n",
       "      <td>Third/Pass</td>\n",
       "      <td>19025</td>\n",
       "      <td>5</td>\n",
       "    </tr>\n",
       "    <tr>\n",
       "      <th>15</th>\n",
       "      <td>829</td>\n",
       "      <td>2016/17</td>\n",
       "      <td>All</td>\n",
       "      <td>All</td>\n",
       "      <td>All</td>\n",
       "      <td>Upper second</td>\n",
       "      <td>192395</td>\n",
       "      <td>49</td>\n",
       "    </tr>\n",
       "  </tbody>\n",
       "</table>\n",
       "</div>"
      ],
      "text/plain": [
       "    Unnamed: 0 Academic Year Mode of study  Sex Country of HE provider  \\\n",
       "12         825       2016/17           All  All                    All   \n",
       "13         826       2016/17           All  All                    All   \n",
       "14         827       2016/17           All  All                    All   \n",
       "15         829       2016/17           All  All                    All   \n",
       "\n",
       "   Classification of First Degree  Number  Percentage  \n",
       "12                          First  100945          26  \n",
       "13                   Lower second   79515          20  \n",
       "14                     Third/Pass   19025           5  \n",
       "15                   Upper second  192395          49  "
      ]
     },
     "execution_count": 3,
     "metadata": {},
     "output_type": "execute_result"
    }
   ],
   "source": [
    "df_16_17 = pd.DataFrame(df[df['Academic Year'] == '2016/17'])\n",
    "df_16_17"
   ]
  },
  {
   "cell_type": "markdown",
   "metadata": {},
   "source": [
    "<h2>Setting the Index</h2>\n",
    "<p>Set Academic Year as the row index and remove any unnamed columns.  Then output the dataframe to make sure it is as expected</p>"
   ]
  },
  {
   "cell_type": "code",
   "execution_count": 4,
   "metadata": {},
   "outputs": [
    {
     "data": {
      "text/html": [
       "<div>\n",
       "<style scoped>\n",
       "    .dataframe tbody tr th:only-of-type {\n",
       "        vertical-align: middle;\n",
       "    }\n",
       "\n",
       "    .dataframe tbody tr th {\n",
       "        vertical-align: top;\n",
       "    }\n",
       "\n",
       "    .dataframe thead th {\n",
       "        text-align: right;\n",
       "    }\n",
       "</style>\n",
       "<table border=\"1\" class=\"dataframe\">\n",
       "  <thead>\n",
       "    <tr style=\"text-align: right;\">\n",
       "      <th></th>\n",
       "      <th>Mode of study</th>\n",
       "      <th>Sex</th>\n",
       "      <th>Country of HE provider</th>\n",
       "      <th>Classification of First Degree</th>\n",
       "      <th>Number</th>\n",
       "      <th>Percentage</th>\n",
       "    </tr>\n",
       "    <tr>\n",
       "      <th>Academic Year</th>\n",
       "      <th></th>\n",
       "      <th></th>\n",
       "      <th></th>\n",
       "      <th></th>\n",
       "      <th></th>\n",
       "      <th></th>\n",
       "    </tr>\n",
       "  </thead>\n",
       "  <tbody>\n",
       "    <tr>\n",
       "      <th>2016/17</th>\n",
       "      <td>All</td>\n",
       "      <td>All</td>\n",
       "      <td>All</td>\n",
       "      <td>First</td>\n",
       "      <td>100945</td>\n",
       "      <td>26</td>\n",
       "    </tr>\n",
       "    <tr>\n",
       "      <th>2016/17</th>\n",
       "      <td>All</td>\n",
       "      <td>All</td>\n",
       "      <td>All</td>\n",
       "      <td>Lower second</td>\n",
       "      <td>79515</td>\n",
       "      <td>20</td>\n",
       "    </tr>\n",
       "    <tr>\n",
       "      <th>2016/17</th>\n",
       "      <td>All</td>\n",
       "      <td>All</td>\n",
       "      <td>All</td>\n",
       "      <td>Third/Pass</td>\n",
       "      <td>19025</td>\n",
       "      <td>5</td>\n",
       "    </tr>\n",
       "    <tr>\n",
       "      <th>2016/17</th>\n",
       "      <td>All</td>\n",
       "      <td>All</td>\n",
       "      <td>All</td>\n",
       "      <td>Upper second</td>\n",
       "      <td>192395</td>\n",
       "      <td>49</td>\n",
       "    </tr>\n",
       "  </tbody>\n",
       "</table>\n",
       "</div>"
      ],
      "text/plain": [
       "              Mode of study  Sex Country of HE provider  \\\n",
       "Academic Year                                             \n",
       "2016/17                 All  All                    All   \n",
       "2016/17                 All  All                    All   \n",
       "2016/17                 All  All                    All   \n",
       "2016/17                 All  All                    All   \n",
       "\n",
       "              Classification of First Degree  Number  Percentage  \n",
       "Academic Year                                                     \n",
       "2016/17                                First  100945          26  \n",
       "2016/17                         Lower second   79515          20  \n",
       "2016/17                           Third/Pass   19025           5  \n",
       "2016/17                         Upper second  192395          49  "
      ]
     },
     "execution_count": 4,
     "metadata": {},
     "output_type": "execute_result"
    }
   ],
   "source": [
    "df_16_17 = df_16_17.drop(['Unnamed: 0'], axis=1)\n",
    "df_16_17 = df_16_17.set_index(['Academic Year'])\n",
    "df_16_17"
   ]
  },
  {
   "cell_type": "markdown",
   "metadata": {},
   "source": [
    "<h2>Define the Size of the Figure</h2>\n",
    "<p>We are now ready to plot.  Figures consist of one or more plots, set the size of the figure to 10 inches by 5 inches. Give your figure a name called '16_17' and assign this object to a variable named fig</p>"
   ]
  },
  {
   "cell_type": "code",
   "execution_count": 5,
   "metadata": {},
   "outputs": [
    {
     "data": {
      "text/plain": [
       "<Figure size 720x360 with 0 Axes>"
      ]
     },
     "metadata": {},
     "output_type": "display_data"
    }
   ],
   "source": [
    "fig = plt.figure('16_17', figsize=(10,5))"
   ]
  },
  {
   "cell_type": "markdown",
   "metadata": {},
   "source": [
    "<h2>Create a Plot</h2>\n",
    "<p>Create a pie plot using using the data from the 'Percentage' column.</p> "
   ]
  },
  {
   "cell_type": "code",
   "execution_count": 6,
   "metadata": {},
   "outputs": [
    {
     "data": {
      "text/plain": [
       "([<matplotlib.patches.Wedge at 0x1e3c76d59c8>,\n",
       "  <matplotlib.patches.Wedge at 0x1e3c76d5f48>,\n",
       "  <matplotlib.patches.Wedge at 0x1e3c76e4908>,\n",
       "  <matplotlib.patches.Wedge at 0x1e3c76e8388>],\n",
       " [Text(0.7530018405458981, 0.8018654676031947, ''),\n",
       "  Text(-0.7011663458720079, 0.8475646025032523, ''),\n",
       "  Text(-1.0951181570411401, 0.10351918720129626, ''),\n",
       "  Text(0.034551827780237764, -1.099457216628753, '')])"
      ]
     },
     "execution_count": 6,
     "metadata": {},
     "output_type": "execute_result"
    },
    {
     "data": {
      "image/png": "[encoded data removed]",
      "text/plain": [
       "<Figure size 432x288 with 1 Axes>"
      ]
     },
     "metadata": {},
     "output_type": "display_data"
    }
   ],
   "source": [
    "plt.pie(df_16_17['Percentage'])"
   ]
  },
  {
   "cell_type": "markdown",
   "metadata": {},
   "source": [
    "<h2>The explode attribute</h2>\n",
    "<p>Use the explode attribute for the plot so that the first class degrees is slightly seperated from the rest of the slices, then replot</p>"
   ]
  },
  {
   "cell_type": "code",
   "execution_count": 7,
   "metadata": {},
   "outputs": [
    {
     "data": {
      "text/plain": [
       "([<matplotlib.patches.Wedge at 0x1e3c7755f88>,\n",
       "  <matplotlib.patches.Wedge at 0x1e3c775d648>,\n",
       "  <matplotlib.patches.Wedge at 0x1e3c7761088>,\n",
       "  <matplotlib.patches.Wedge at 0x1e3c7761a48>],\n",
       " [Text(0.821456553322798, 0.8747623282943942, ''),\n",
       "  Text(-0.7011663458720079, 0.8475646025032523, ''),\n",
       "  Text(-1.0951181570411401, 0.10351918720129626, ''),\n",
       "  Text(0.034551827780237764, -1.099457216628753, '')])"
      ]
     },
     "execution_count": 7,
     "metadata": {},
     "output_type": "execute_result"
    },
    {
     "data": {
      "image/png": "[encoded data removed]",
      "text/plain": [
       "<Figure size 432x288 with 1 Axes>"
      ]
     },
     "metadata": {},
     "output_type": "display_data"
    }
   ],
   "source": [
    "plt.pie(df_16_17['Percentage'], explode=(0.1, 0, 0, 0))"
   ]
  },
  {
   "cell_type": "markdown",
   "metadata": {},
   "source": [
    "<h2>The Shadow attribute</h2>\n",
    "<p>Use the shadow attribute for the plot so that there is a shadow effect, then replot</p>"
   ]
  },
  {
   "cell_type": "code",
   "execution_count": 8,
   "metadata": {},
   "outputs": [
    {
     "data": {
      "text/plain": [
       "([<matplotlib.patches.Wedge at 0x1e3c77aa8c8>,\n",
       "  <matplotlib.patches.Wedge at 0x1e3c77b0488>,\n",
       "  <matplotlib.patches.Wedge at 0x1e3c77b5488>,\n",
       "  <matplotlib.patches.Wedge at 0x1e3c77bd448>],\n",
       " [Text(0.821456553322798, 0.8747623282943942, ''),\n",
       "  Text(-0.7011663458720079, 0.8475646025032523, ''),\n",
       "  Text(-1.0951181570411401, 0.10351918720129626, ''),\n",
       "  Text(0.034551827780237764, -1.099457216628753, '')])"
      ]
     },
     "execution_count": 8,
     "metadata": {},
     "output_type": "execute_result"
    },
    {
     "data": {
      "image/png": "[encoded data removed]",
      "text/plain": [
       "<Figure size 432x288 with 1 Axes>"
      ]
     },
     "metadata": {},
     "output_type": "display_data"
    }
   ],
   "source": [
    "plt.pie(df_16_17['Percentage'], explode=(0.1, 0, 0, 0), shadow=True)"
   ]
  },
  {
   "cell_type": "markdown",
   "metadata": {},
   "source": [
    "<h2>The Start Angle attribute</h2>\n",
    "<p>Use the start angle attribute so that the pie chart is rotated by 90 degrees, the slice that represents the first class degrees should be in the top left of the plot.  Replot to make sure it has worked correctly</p>"
   ]
  },
  {
   "cell_type": "code",
   "execution_count": 9,
   "metadata": {},
   "outputs": [
    {
     "data": {
      "text/plain": [
       "([<matplotlib.patches.Wedge at 0x1e3c78003c8>,\n",
       "  <matplotlib.patches.Wedge at 0x1e3c7800dc8>,\n",
       "  <matplotlib.patches.Wedge at 0x1e3c7807f08>,\n",
       "  <matplotlib.patches.Wedge at 0x1e3c780de88>],\n",
       " [Text(-0.8747623282943942, 0.821456553322798, ''),\n",
       "  Text(-0.8475646025032523, -0.7011663458720079, ''),\n",
       "  Text(-0.10351918720129634, -1.0951181570411401, ''),\n",
       "  Text(1.099457216628753, 0.034551827780237694, '')])"
      ]
     },
     "execution_count": 9,
     "metadata": {},
     "output_type": "execute_result"
    },
    {
     "data": {
      "image/png": "[encoded data removed]",
      "text/plain": [
       "<Figure size 432x288 with 1 Axes>"
      ]
     },
     "metadata": {},
     "output_type": "display_data"
    }
   ],
   "source": [
    "plt.pie(df_16_17['Percentage'], explode=(0.1, 0, 0, 0), shadow=True, startangle=90)"
   ]
  },
  {
   "cell_type": "markdown",
   "metadata": {},
   "source": [
    "<h2>Adding Percentages</h2>\n",
    "<p>Add percentages to the plot for each slice.  Replot to make sure it has worked correctly</p>"
   ]
  },
  {
   "cell_type": "code",
   "execution_count": 10,
   "metadata": {},
   "outputs": [
    {
     "data": {
      "text/plain": [
       "([<matplotlib.patches.Wedge at 0x1e3c78596c8>,\n",
       "  <matplotlib.patches.Wedge at 0x1e3c785e708>,\n",
       "  <matplotlib.patches.Wedge at 0x1e3c7865ac8>,\n",
       "  <matplotlib.patches.Wedge at 0x1e3c786af88>],\n",
       " [Text(-0.8747623282943942, 0.821456553322798, ''),\n",
       "  Text(-0.8475646025032523, -0.7011663458720079, ''),\n",
       "  Text(-0.10351918720129634, -1.0951181570411401, ''),\n",
       "  Text(1.099457216628753, 0.034551827780237694, '')],\n",
       " [Text(-0.5102780248383966, 0.4791829894382988, '26.0%'),\n",
       "  Text(-0.4623079650017739, -0.3824543704756406, '20.0%'),\n",
       "  Text(-0.056465011200707085, -0.5973371765678945, '5.0%'),\n",
       "  Text(0.5997039363429562, 0.018846451516493286, '49.0%')])"
      ]
     },
     "execution_count": 10,
     "metadata": {},
     "output_type": "execute_result"
    },
    {
     "data": {
      "image/png": "[encoded data removed]",
      "text/plain": [
       "<Figure size 432x288 with 1 Axes>"
      ]
     },
     "metadata": {},
     "output_type": "display_data"
    }
   ],
   "source": [
    "plt.pie(df_16_17['Percentage'], explode=(0.1, 0, 0, 0), shadow=True, startangle=90, autopct='%1.1f%%')"
   ]
  },
  {
   "cell_type": "markdown",
   "metadata": {},
   "source": [
    "<h2>Adding Labels</h2>\n",
    "<p>Add labels for each slice so that we know which classification is associated with each slice.  Replot to make sure it has worked correctly</p>"
   ]
  },
  {
   "cell_type": "code",
   "execution_count": 11,
   "metadata": {},
   "outputs": [
    {
     "data": {
      "text/plain": [
       "([<matplotlib.patches.Wedge at 0x1e3c78bfb48>,\n",
       "  <matplotlib.patches.Wedge at 0x1e3c78c5b08>,\n",
       "  <matplotlib.patches.Wedge at 0x1e3c78caec8>,\n",
       "  <matplotlib.patches.Wedge at 0x1e3c78d7348>],\n",
       " [Text(-0.8747623282943942, 0.821456553322798, 'First'),\n",
       "  Text(-0.8475646025032523, -0.7011663458720079, 'Lower second'),\n",
       "  Text(-0.10351918720129634, -1.0951181570411401, 'Third/Pass'),\n",
       "  Text(1.099457216628753, 0.034551827780237694, 'Upper second')],\n",
       " [Text(-0.5102780248383966, 0.4791829894382988, '26.0%'),\n",
       "  Text(-0.4623079650017739, -0.3824543704756406, '20.0%'),\n",
       "  Text(-0.056465011200707085, -0.5973371765678945, '5.0%'),\n",
       "  Text(0.5997039363429562, 0.018846451516493286, '49.0%')])"
      ]
     },
     "execution_count": 11,
     "metadata": {},
     "output_type": "execute_result"
    },
    {
     "data": {
      "image/png": "[encoded data removed]",
      "text/plain": [
       "<Figure size 432x288 with 1 Axes>"
      ]
     },
     "metadata": {},
     "output_type": "display_data"
    }
   ],
   "source": [
    "plt.pie(df_16_17['Percentage'], explode=(0.1, 0, 0, 0), shadow=True, startangle=90, autopct='%1.1f%%', labels=df_16_17['Classification of First Degree'] )"
   ]
  },
  {
   "cell_type": "markdown",
   "metadata": {},
   "source": [
    "<h2>Add a Title to the Plot</h2>\n",
    "<p>Add a title to the plot, 'Classification of Degrees Awarded in 2016/17'</p>"
   ]
  },
  {
   "cell_type": "code",
   "execution_count": 12,
   "metadata": {},
   "outputs": [
    {
     "data": {
      "text/plain": [
       "([<matplotlib.patches.Wedge at 0x1e3c792a788>,\n",
       "  <matplotlib.patches.Wedge at 0x1e3c79322c8>,\n",
       "  <matplotlib.patches.Wedge at 0x1e3c7937688>,\n",
       "  <matplotlib.patches.Wedge at 0x1e3c793eac8>],\n",
       " [Text(-0.8747623282943942, 0.821456553322798, 'First'),\n",
       "  Text(-0.8475646025032523, -0.7011663458720079, 'Lower second'),\n",
       "  Text(-0.10351918720129634, -1.0951181570411401, 'Third/Pass'),\n",
       "  Text(1.099457216628753, 0.034551827780237694, 'Upper second')],\n",
       " [Text(-0.5102780248383966, 0.4791829894382988, '26.0%'),\n",
       "  Text(-0.4623079650017739, -0.3824543704756406, '20.0%'),\n",
       "  Text(-0.056465011200707085, -0.5973371765678945, '5.0%'),\n",
       "  Text(0.5997039363429562, 0.018846451516493286, '49.0%')])"
      ]
     },
     "execution_count": 12,
     "metadata": {},
     "output_type": "execute_result"
    },
    {
     "data": {
      "image/png": "[encoded data removed]",
      "text/plain": [
       "<Figure size 432x288 with 1 Axes>"
      ]
     },
     "metadata": {},
     "output_type": "display_data"
    }
   ],
   "source": [
    "plt.title(\"Classification of Degrees Awarded in 2016/17\")\n",
    "plt.pie(df_16_17['Percentage'], explode=(0.1, 0, 0, 0), shadow=True, startangle=90, autopct='%1.1f%%', labels=df_16_17['Classification of First Degree'] )"
   ]
  },
  {
   "cell_type": "markdown",
   "metadata": {},
   "source": [
    "<h2>What the Plot tells you</h2>\n",
    "<p>Based on your plot, complete the following statements</p>\n",
    "<ul>\n",
    "<li>In academic year 2016/17, 26% of degrees awarded were ________________.</li>\n",
    "<li>In academic year 2016/17, 20% of degrees awarded were ________________.</li>\n",
    "<li>In academic year 2016/17, just under half the degrees awarded were ________________.</li>\n",
    "<li>In academic year 2016/17, 25% of degrees awarded were either ________________ or ________________.</li>\n",
    "</ul>"
   ]
  }
 ],
 "metadata": {
  "kernelspec": {
   "display_name": "Python 3",
   "language": "python",
   "name": "python3"
  },
  "language_info": {
   "codemirror_mode": {
    "name": "ipython",
    "version": 3
   },
   "file_extension": ".py",
   "mimetype": "text/x-python",
   "name": "python",
   "nbconvert_exporter": "python",
   "pygments_lexer": "ipython3",
   "version": "3.7.6"
  }
 },
 "nbformat": 4,
 "nbformat_minor": 4
}
